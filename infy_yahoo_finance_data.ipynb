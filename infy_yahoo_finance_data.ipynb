{
  "nbformat": 4,
  "nbformat_minor": 0,
  "metadata": {
    "colab": {
      "name": "infy-yahoo-finance-data.ipynb",
      "provenance": [],
      "authorship_tag": "ABX9TyOBRIwi3vQ5fksxbaEpCxkd",
      "include_colab_link": true
    },
    "kernelspec": {
      "name": "python3",
      "display_name": "Python 3"
    }
  },
  "cells": [
    {
      "cell_type": "markdown",
      "metadata": {
        "id": "view-in-github",
        "colab_type": "text"
      },
      "source": [
        "<a href=\"https://colab.research.google.com/github/vedanthshenoy/Infy-stock-price-prediction-BiLSTM/blob/main/infy_yahoo_finance_data.ipynb\" target=\"_parent\"><img src=\"https://colab.research.google.com/assets/colab-badge.svg\" alt=\"Open In Colab\"/></a>"
      ]
    },
    {
      "cell_type": "code",
      "metadata": {
        "id": "YIYjeZn8tZYE",
        "colab": {
          "base_uri": "https://localhost:8080/"
        },
        "outputId": "3c89142a-9b35-4d66-d706-7df18f8f3d76"
      },
      "source": [
        "import pandas as pd\n",
        "from google.colab import drive\n",
        "drive.mount('/content/drive')"
      ],
      "execution_count": 1,
      "outputs": [
        {
          "output_type": "stream",
          "text": [
            "Mounted at /content/drive\n"
          ],
          "name": "stdout"
        }
      ]
    },
    {
      "cell_type": "code",
      "metadata": {
        "colab": {
          "base_uri": "https://localhost:8080/",
          "height": 235
        },
        "id": "l0xNDInOAQyX",
        "outputId": "1819b85e-2ba4-4f0d-fea8-da7659529f1d"
      },
      "source": [
        "data=pd.read_csv('/content/drive/MyDrive/INFY.csv',parse_dates=['Date'],index_col='Date')\n",
        "data.head()"
      ],
      "execution_count": 2,
      "outputs": [
        {
          "output_type": "execute_result",
          "data": {
            "text/html": [
              "<div>\n",
              "<style scoped>\n",
              "    .dataframe tbody tr th:only-of-type {\n",
              "        vertical-align: middle;\n",
              "    }\n",
              "\n",
              "    .dataframe tbody tr th {\n",
              "        vertical-align: top;\n",
              "    }\n",
              "\n",
              "    .dataframe thead th {\n",
              "        text-align: right;\n",
              "    }\n",
              "</style>\n",
              "<table border=\"1\" class=\"dataframe\">\n",
              "  <thead>\n",
              "    <tr style=\"text-align: right;\">\n",
              "      <th></th>\n",
              "      <th>Open</th>\n",
              "      <th>High</th>\n",
              "      <th>Low</th>\n",
              "      <th>Close</th>\n",
              "      <th>Adj Close</th>\n",
              "      <th>Volume</th>\n",
              "    </tr>\n",
              "    <tr>\n",
              "      <th>Date</th>\n",
              "      <th></th>\n",
              "      <th></th>\n",
              "      <th></th>\n",
              "      <th></th>\n",
              "      <th></th>\n",
              "      <th></th>\n",
              "    </tr>\n",
              "  </thead>\n",
              "  <tbody>\n",
              "    <tr>\n",
              "      <th>2015-11-30</th>\n",
              "      <td>8.320</td>\n",
              "      <td>8.500</td>\n",
              "      <td>8.225</td>\n",
              "      <td>8.340</td>\n",
              "      <td>7.163630</td>\n",
              "      <td>14280800</td>\n",
              "    </tr>\n",
              "    <tr>\n",
              "      <th>2015-12-01</th>\n",
              "      <td>8.350</td>\n",
              "      <td>8.385</td>\n",
              "      <td>8.205</td>\n",
              "      <td>8.280</td>\n",
              "      <td>7.112093</td>\n",
              "      <td>6067200</td>\n",
              "    </tr>\n",
              "    <tr>\n",
              "      <th>2015-12-02</th>\n",
              "      <td>8.210</td>\n",
              "      <td>8.225</td>\n",
              "      <td>8.110</td>\n",
              "      <td>8.130</td>\n",
              "      <td>6.983251</td>\n",
              "      <td>6377600</td>\n",
              "    </tr>\n",
              "    <tr>\n",
              "      <th>2015-12-03</th>\n",
              "      <td>8.140</td>\n",
              "      <td>8.150</td>\n",
              "      <td>8.035</td>\n",
              "      <td>8.065</td>\n",
              "      <td>6.927418</td>\n",
              "      <td>4031000</td>\n",
              "    </tr>\n",
              "    <tr>\n",
              "      <th>2015-12-04</th>\n",
              "      <td>8.065</td>\n",
              "      <td>8.215</td>\n",
              "      <td>8.060</td>\n",
              "      <td>8.185</td>\n",
              "      <td>7.030493</td>\n",
              "      <td>3501200</td>\n",
              "    </tr>\n",
              "  </tbody>\n",
              "</table>\n",
              "</div>"
            ],
            "text/plain": [
              "             Open   High    Low  Close  Adj Close    Volume\n",
              "Date                                                       \n",
              "2015-11-30  8.320  8.500  8.225  8.340   7.163630  14280800\n",
              "2015-12-01  8.350  8.385  8.205  8.280   7.112093   6067200\n",
              "2015-12-02  8.210  8.225  8.110  8.130   6.983251   6377600\n",
              "2015-12-03  8.140  8.150  8.035  8.065   6.927418   4031000\n",
              "2015-12-04  8.065  8.215  8.060  8.185   7.030493   3501200"
            ]
          },
          "metadata": {
            "tags": []
          },
          "execution_count": 2
        }
      ]
    },
    {
      "cell_type": "code",
      "metadata": {
        "colab": {
          "base_uri": "https://localhost:8080/",
          "height": 235
        },
        "id": "P-6eZcXDBRaa",
        "outputId": "a0238781-eaf3-48eb-f44e-ff325c356c3f"
      },
      "source": [
        "data['Day']=data.index.day\n",
        "data['DayOfWeek']=data.index.dayofweek\n",
        "data.head()"
      ],
      "execution_count": 5,
      "outputs": [
        {
          "output_type": "execute_result",
          "data": {
            "text/html": [
              "<div>\n",
              "<style scoped>\n",
              "    .dataframe tbody tr th:only-of-type {\n",
              "        vertical-align: middle;\n",
              "    }\n",
              "\n",
              "    .dataframe tbody tr th {\n",
              "        vertical-align: top;\n",
              "    }\n",
              "\n",
              "    .dataframe thead th {\n",
              "        text-align: right;\n",
              "    }\n",
              "</style>\n",
              "<table border=\"1\" class=\"dataframe\">\n",
              "  <thead>\n",
              "    <tr style=\"text-align: right;\">\n",
              "      <th></th>\n",
              "      <th>Open</th>\n",
              "      <th>High</th>\n",
              "      <th>Low</th>\n",
              "      <th>Close</th>\n",
              "      <th>Adj Close</th>\n",
              "      <th>Volume</th>\n",
              "      <th>Day</th>\n",
              "      <th>DayOfWeek</th>\n",
              "    </tr>\n",
              "    <tr>\n",
              "      <th>Date</th>\n",
              "      <th></th>\n",
              "      <th></th>\n",
              "      <th></th>\n",
              "      <th></th>\n",
              "      <th></th>\n",
              "      <th></th>\n",
              "      <th></th>\n",
              "      <th></th>\n",
              "    </tr>\n",
              "  </thead>\n",
              "  <tbody>\n",
              "    <tr>\n",
              "      <th>2015-11-30</th>\n",
              "      <td>8.320</td>\n",
              "      <td>8.500</td>\n",
              "      <td>8.225</td>\n",
              "      <td>8.340</td>\n",
              "      <td>7.163630</td>\n",
              "      <td>14280800</td>\n",
              "      <td>30</td>\n",
              "      <td>0</td>\n",
              "    </tr>\n",
              "    <tr>\n",
              "      <th>2015-12-01</th>\n",
              "      <td>8.350</td>\n",
              "      <td>8.385</td>\n",
              "      <td>8.205</td>\n",
              "      <td>8.280</td>\n",
              "      <td>7.112093</td>\n",
              "      <td>6067200</td>\n",
              "      <td>1</td>\n",
              "      <td>1</td>\n",
              "    </tr>\n",
              "    <tr>\n",
              "      <th>2015-12-02</th>\n",
              "      <td>8.210</td>\n",
              "      <td>8.225</td>\n",
              "      <td>8.110</td>\n",
              "      <td>8.130</td>\n",
              "      <td>6.983251</td>\n",
              "      <td>6377600</td>\n",
              "      <td>2</td>\n",
              "      <td>2</td>\n",
              "    </tr>\n",
              "    <tr>\n",
              "      <th>2015-12-03</th>\n",
              "      <td>8.140</td>\n",
              "      <td>8.150</td>\n",
              "      <td>8.035</td>\n",
              "      <td>8.065</td>\n",
              "      <td>6.927418</td>\n",
              "      <td>4031000</td>\n",
              "      <td>3</td>\n",
              "      <td>3</td>\n",
              "    </tr>\n",
              "    <tr>\n",
              "      <th>2015-12-04</th>\n",
              "      <td>8.065</td>\n",
              "      <td>8.215</td>\n",
              "      <td>8.060</td>\n",
              "      <td>8.185</td>\n",
              "      <td>7.030493</td>\n",
              "      <td>3501200</td>\n",
              "      <td>4</td>\n",
              "      <td>4</td>\n",
              "    </tr>\n",
              "  </tbody>\n",
              "</table>\n",
              "</div>"
            ],
            "text/plain": [
              "             Open   High    Low  Close  Adj Close    Volume  Day  DayOfWeek\n",
              "Date                                                                       \n",
              "2015-11-30  8.320  8.500  8.225  8.340   7.163630  14280800   30          0\n",
              "2015-12-01  8.350  8.385  8.205  8.280   7.112093   6067200    1          1\n",
              "2015-12-02  8.210  8.225  8.110  8.130   6.983251   6377600    2          2\n",
              "2015-12-03  8.140  8.150  8.035  8.065   6.927418   4031000    3          3\n",
              "2015-12-04  8.065  8.215  8.060  8.185   7.030493   3501200    4          4"
            ]
          },
          "metadata": {
            "tags": []
          },
          "execution_count": 5
        }
      ]
    },
    {
      "cell_type": "code",
      "metadata": {
        "colab": {
          "base_uri": "https://localhost:8080/",
          "height": 316
        },
        "id": "Q5nPEgGiBcFA",
        "outputId": "7b799267-05fe-4f8f-ddf5-80825d7ca3a9"
      },
      "source": [
        "import matplotlib.pyplot as plt\n",
        "plt.figure(figsize=(30,7))\n",
        "plt.plot(data.index,data['Close'])\n",
        "plt.show()"
      ],
      "execution_count": 7,
      "outputs": [
        {
          "output_type": "display_data",
          "data": {
            "image/png": "[encoded data removed]",
            "text/plain": [
              "<Figure size 2160x504 with 1 Axes>"
            ]
          },
          "metadata": {
            "tags": [],
            "needs_background": "light"
          }
        }
      ]
    },
    {
      "cell_type": "code",
      "metadata": {
        "colab": {
          "base_uri": "https://localhost:8080/"
        },
        "id": "klVfjfK5Can6",
        "outputId": "afa24f89-b8fd-4d97-881f-e7e27d758f5a"
      },
      "source": [
        "train_size=int(len(data)*0.9)\n",
        "train,test=data.iloc[:train_size],data.iloc[train_size:len(data)]\n",
        "train.shape,test.shape"
      ],
      "execution_count": 8,
      "outputs": [
        {
          "output_type": "execute_result",
          "data": {
            "text/plain": [
              "((1133, 8), (126, 8))"
            ]
          },
          "metadata": {
            "tags": []
          },
          "execution_count": 8
        }
      ]
    },
    {
      "cell_type": "code",
      "metadata": {
        "colab": {
          "base_uri": "https://localhost:8080/"
        },
        "id": "uoIVKTppF-88",
        "outputId": "c1ab88a3-3e77-4c5b-efed-685999008740"
      },
      "source": [
        "from sklearn.preprocessing import MinMaxScaler\n",
        "\n",
        "rs_data = MinMaxScaler()\n",
        "rs_target = MinMaxScaler()\n",
        "\n",
        "target=data['Close']\n",
        "data.drop(columns=['Close'],inplace=True)\n",
        "\n",
        "train.loc[:,data.columns]=rs_data.fit_transform(train.loc[:,data.columns].to_numpy())\n",
        "train['Close']=rs_target.fit_transform(train[['Close']].to_numpy())\n",
        "test.loc[:,data.columns]=rs_data.fit_transform(test.loc[:,data.columns].to_numpy())\n",
        "test['Close']=rs_target.fit_transform(test[['Close']].to_numpy())"
      ],
      "execution_count": 9,
      "outputs": [
        {
          "output_type": "stream",
          "text": [
            "/usr/local/lib/python3.6/dist-packages/pandas/core/indexing.py:1734: SettingWithCopyWarning: \n",
            "A value is trying to be set on a copy of a slice from a DataFrame.\n",
            "Try using .loc[row_indexer,col_indexer] = value instead\n",
            "\n",
            "See the caveats in the documentation: https://pandas.pydata.org/pandas-docs/stable/user_guide/indexing.html#returning-a-view-versus-a-copy\n",
            "  isetter(loc, value[:, i].tolist())\n",
            "/usr/local/lib/python3.6/dist-packages/ipykernel_launcher.py:10: SettingWithCopyWarning: \n",
            "A value is trying to be set on a copy of a slice from a DataFrame.\n",
            "Try using .loc[row_indexer,col_indexer] = value instead\n",
            "\n",
            "See the caveats in the documentation: https://pandas.pydata.org/pandas-docs/stable/user_guide/indexing.html#returning-a-view-versus-a-copy\n",
            "  # Remove the CWD from sys.path while we load stuff.\n",
            "/usr/local/lib/python3.6/dist-packages/pandas/core/indexing.py:1734: SettingWithCopyWarning: \n",
            "A value is trying to be set on a copy of a slice from a DataFrame.\n",
            "Try using .loc[row_indexer,col_indexer] = value instead\n",
            "\n",
            "See the caveats in the documentation: https://pandas.pydata.org/pandas-docs/stable/user_guide/indexing.html#returning-a-view-versus-a-copy\n",
            "  isetter(loc, value[:, i].tolist())\n",
            "/usr/local/lib/python3.6/dist-packages/ipykernel_launcher.py:12: SettingWithCopyWarning: \n",
            "A value is trying to be set on a copy of a slice from a DataFrame.\n",
            "Try using .loc[row_indexer,col_indexer] = value instead\n",
            "\n",
            "See the caveats in the documentation: https://pandas.pydata.org/pandas-docs/stable/user_guide/indexing.html#returning-a-view-versus-a-copy\n",
            "  if sys.path[0] == '':\n"
          ],
          "name": "stderr"
        }
      ]
    },
    {
      "cell_type": "code",
      "metadata": {
        "id": "2rEu9SeZGJhy"
      },
      "source": [
        "import numpy as np\n",
        "def create_dataset(X, y, time_steps=1):\n",
        "    Xs, ys = [], []\n",
        "    for i in range(len(X) - time_steps):\n",
        "        v = X.iloc[i:(i + time_steps)].values\n",
        "        Xs.append(v)\n",
        "        ys.append(y.iloc[i + time_steps])\n",
        "    return np.array(Xs), np.array(ys)"
      ],
      "execution_count": 10,
      "outputs": []
    },
    {
      "cell_type": "code",
      "metadata": {
        "colab": {
          "base_uri": "https://localhost:8080/"
        },
        "id": "se_f5VKIGOql",
        "outputId": "a75e458b-9006-484b-d244-916bdc9719b7"
      },
      "source": [
        "time_steps=5\n",
        "\n",
        "x_train, y_train = create_dataset(train, train['Close'], time_steps)\n",
        "x_test, y_test = create_dataset(test, test['Close'], time_steps)\n",
        "\n",
        "x_train.shape,x_test.shape"
      ],
      "execution_count": 106,
      "outputs": [
        {
          "output_type": "execute_result",
          "data": {
            "text/plain": [
              "((1128, 5, 8), (121, 5, 8))"
            ]
          },
          "metadata": {
            "tags": []
          },
          "execution_count": 106
        }
      ]
    },
    {
      "cell_type": "code",
      "metadata": {
        "id": "4nomiRNjGRfu"
      },
      "source": [
        "import keras\n",
        "model = keras.Sequential()\n",
        "model.add(keras.layers.Conv1D(filters=32, kernel_size=5,\n",
        "                      strides=1, padding=\"causal\",\n",
        "                      activation=\"relu\",\n",
        "                      input_shape=(x_train.shape[1], x_train.shape[2])))\n",
        "model.add(\n",
        "  keras.layers.Bidirectional(\n",
        "    keras.layers.LSTM(\n",
        "      units=128,return_sequences=True\n",
        "    )\n",
        "  ))\n",
        "model.add(\n",
        "  keras.layers.Bidirectional(\n",
        "  keras.layers.LSTM(\n",
        "  units=500,return_sequences=True\n",
        "    )\n",
        "  ))\n",
        "model.add(\n",
        "  keras.layers.Bidirectional(\n",
        "  keras.layers.LSTM(units=500)\n",
        "  )\n",
        ")\n",
        "model.add(keras.layers.Dropout(rate=0.25))\n",
        "model.add(keras.layers.Dense(units=100,activation='relu'))\n",
        "model.add(keras.layers.Dense(10, activation=\"relu\"))\n",
        "model.add(keras.layers.Dense(units=1))\n",
        "model.compile(loss=keras.losses.Huber(),\n",
        "              optimizer='adam',\n",
        "              metrics=[\"mse\"])"
      ],
      "execution_count": 107,
      "outputs": []
    },
    {
      "cell_type": "code",
      "metadata": {
        "colab": {
          "base_uri": "https://localhost:8080/"
        },
        "id": "hj0HG9sgGZcN",
        "outputId": "d3936027-e356-4187-d6fc-6541baa26e14"
      },
      "source": [
        "history = model.fit(\n",
        "    x_train, y_train,\n",
        "    epochs=10,\n",
        "    batch_size=32,\n",
        "    validation_split=0.35,\n",
        "    shuffle=False,\n",
        "    verbose=1\n",
        ")"
      ],
      "execution_count": 108,
      "outputs": [
        {
          "output_type": "stream",
          "text": [
            "Epoch 1/10\n",
            "23/23 [==============================] - 9s 387ms/step - loss: 0.0163 - mse: 0.0325 - val_loss: 0.0195 - val_mse: 0.0389\n",
            "Epoch 2/10\n",
            "23/23 [==============================] - 7s 298ms/step - loss: 0.0180 - mse: 0.0360 - val_loss: 0.0391 - val_mse: 0.0783\n",
            "Epoch 3/10\n",
            "23/23 [==============================] - 7s 298ms/step - loss: 0.0078 - mse: 0.0156 - val_loss: 0.0077 - val_mse: 0.0155\n",
            "Epoch 4/10\n",
            "23/23 [==============================] - 7s 298ms/step - loss: 0.0064 - mse: 0.0129 - val_loss: 0.0168 - val_mse: 0.0337\n",
            "Epoch 5/10\n",
            "23/23 [==============================] - 7s 299ms/step - loss: 0.0033 - mse: 0.0066 - val_loss: 0.0061 - val_mse: 0.0123\n",
            "Epoch 6/10\n",
            "23/23 [==============================] - 7s 299ms/step - loss: 0.0051 - mse: 0.0102 - val_loss: 0.0190 - val_mse: 0.0380\n",
            "Epoch 7/10\n",
            "23/23 [==============================] - 7s 299ms/step - loss: 0.0071 - mse: 0.0142 - val_loss: 0.0102 - val_mse: 0.0204\n",
            "Epoch 8/10\n",
            "23/23 [==============================] - 7s 298ms/step - loss: 0.0075 - mse: 0.0150 - val_loss: 0.0192 - val_mse: 0.0384\n",
            "Epoch 9/10\n",
            "23/23 [==============================] - 7s 300ms/step - loss: 0.0048 - mse: 0.0096 - val_loss: 0.0055 - val_mse: 0.0109\n",
            "Epoch 10/10\n",
            "23/23 [==============================] - 7s 299ms/step - loss: 0.0033 - mse: 0.0065 - val_loss: 0.0071 - val_mse: 0.0141\n"
          ],
          "name": "stdout"
        }
      ]
    },
    {
      "cell_type": "code",
      "metadata": {
        "id": "CLMzxrMeGj6d"
      },
      "source": [
        "pred=model.predict(x_test)\n",
        "y_train_inv=rs_target.inverse_transform(y_train.reshape(1,-1))\n",
        "y_test_inv=rs_target.inverse_transform(y_test.reshape(1,-1))\n",
        "pred=rs_target.inverse_transform(pred.reshape(1,-1))"
      ],
      "execution_count": 109,
      "outputs": []
    },
    {
      "cell_type": "code",
      "metadata": {
        "colab": {
          "base_uri": "https://localhost:8080/",
          "height": 265
        },
        "id": "9PucMTy4HCM3",
        "outputId": "e43d03a1-47ac-4c2f-b8a2-ada3685c6340"
      },
      "source": [
        "plt.plot(y_test_inv.flatten(),marker='.',label='True')\n",
        "plt.plot(pred.flatten(),'r',marker='.',label='Predicted')\n",
        "plt.legend()\n",
        "plt.show()"
      ],
      "execution_count": 110,
      "outputs": [
        {
          "output_type": "display_data",
          "data": {
            "image/png": "[encoded data removed]",
            "text/plain": [
              "<Figure size 432x288 with 1 Axes>"
            ]
          },
          "metadata": {
            "tags": [],
            "needs_background": "light"
          }
        }
      ]
    }
  ]
}