{
  "nbformat": 4,
  "nbformat_minor": 0,
  "metadata": {
    "colab": {
      "name": "infy-share-prediction.ipynb",
      "provenance": [],
      "authorship_tag": "ABX9TyP0cykP4c9fAsCoXa2usdkO",
      "include_colab_link": true
    },
    "kernelspec": {
      "name": "python3",
      "display_name": "Python 3"
    },
    "accelerator": "GPU"
  },
  "cells": [
    {
      "cell_type": "markdown",
      "metadata": {
        "id": "view-in-github",
        "colab_type": "text"
      },
      "source": [
        "<a href=\"https://colab.research.google.com/github/vedanthshenoy/Infy-stock-price-prediction-BiLSTM/blob/main/infy_share_prediction.ipynb\" target=\"_parent\"><img src=\"https://colab.research.google.com/assets/colab-badge.svg\" alt=\"Open In Colab\"/></a>"
      ]
    },
    {
      "cell_type": "code",
      "metadata": {
        "id": "OKpLmBh0ooMI",
        "colab": {
          "base_uri": "https://localhost:8080/"
        },
        "outputId": "5d38164e-07f8-4525-a1c2-37adc0c32c82"
      },
      "source": [
        "import pandas as pd\n",
        "from google.colab import drive\n",
        "drive.mount('/content/drive')"
      ],
      "execution_count": 61,
      "outputs": [
        {
          "output_type": "stream",
          "text": [
            "Drive already mounted at /content/drive; to attempt to forcibly remount, call drive.mount(\"/content/drive\", force_remount=True).\n"
          ],
          "name": "stdout"
        }
      ]
    },
    {
      "cell_type": "code",
      "metadata": {
        "colab": {
          "base_uri": "https://localhost:8080/",
          "height": 391
        },
        "id": "Pi7L7VIcITnV",
        "outputId": "fac5bec8-9432-4072-e76a-3cabf96898ee"
      },
      "source": [
        "data=pd.read_csv('/content/drive/MyDrive/29-11-2018-TO-27-11-2020INFYALLN.csv',parse_dates=['Date'],index_col='Date')\n",
        "data.head()"
      ],
      "execution_count": 62,
      "outputs": [
        {
          "output_type": "execute_result",
          "data": {
            "text/html": [
              "<div>\n",
              "<style scoped>\n",
              "    .dataframe tbody tr th:only-of-type {\n",
              "        vertical-align: middle;\n",
              "    }\n",
              "\n",
              "    .dataframe tbody tr th {\n",
              "        vertical-align: top;\n",
              "    }\n",
              "\n",
              "    .dataframe thead th {\n",
              "        text-align: right;\n",
              "    }\n",
              "</style>\n",
              "<table border=\"1\" class=\"dataframe\">\n",
              "  <thead>\n",
              "    <tr style=\"text-align: right;\">\n",
              "      <th></th>\n",
              "      <th>Symbol</th>\n",
              "      <th>Series</th>\n",
              "      <th>Prev Close</th>\n",
              "      <th>Open Price</th>\n",
              "      <th>High Price</th>\n",
              "      <th>Low Price</th>\n",
              "      <th>Last Price</th>\n",
              "      <th>Close Price</th>\n",
              "      <th>Average Price</th>\n",
              "      <th>Total Traded Quantity</th>\n",
              "      <th>Turnover</th>\n",
              "      <th>No. of Trades</th>\n",
              "      <th>Deliverable Qty</th>\n",
              "      <th>% Dly Qt to Traded Qty</th>\n",
              "    </tr>\n",
              "    <tr>\n",
              "      <th>Date</th>\n",
              "      <th></th>\n",
              "      <th></th>\n",
              "      <th></th>\n",
              "      <th></th>\n",
              "      <th></th>\n",
              "      <th></th>\n",
              "      <th></th>\n",
              "      <th></th>\n",
              "      <th></th>\n",
              "      <th></th>\n",
              "      <th></th>\n",
              "      <th></th>\n",
              "      <th></th>\n",
              "      <th></th>\n",
              "    </tr>\n",
              "  </thead>\n",
              "  <tbody>\n",
              "    <tr>\n",
              "      <th>2018-11-29</th>\n",
              "      <td>INFY</td>\n",
              "      <td>EQ</td>\n",
              "      <td>666.40</td>\n",
              "      <td>671.00</td>\n",
              "      <td>674.90</td>\n",
              "      <td>658.80</td>\n",
              "      <td>665.00</td>\n",
              "      <td>661.05</td>\n",
              "      <td>667.03</td>\n",
              "      <td>13399070</td>\n",
              "      <td>8.937609e+09</td>\n",
              "      <td>170549</td>\n",
              "      <td>7390099</td>\n",
              "      <td>55.15</td>\n",
              "    </tr>\n",
              "    <tr>\n",
              "      <th>2018-11-30</th>\n",
              "      <td>INFY</td>\n",
              "      <td>EQ</td>\n",
              "      <td>661.05</td>\n",
              "      <td>661.00</td>\n",
              "      <td>672.00</td>\n",
              "      <td>660.95</td>\n",
              "      <td>670.00</td>\n",
              "      <td>667.45</td>\n",
              "      <td>667.52</td>\n",
              "      <td>10445773</td>\n",
              "      <td>6.972741e+09</td>\n",
              "      <td>118396</td>\n",
              "      <td>6667707</td>\n",
              "      <td>63.83</td>\n",
              "    </tr>\n",
              "    <tr>\n",
              "      <th>2018-12-03</th>\n",
              "      <td>INFY</td>\n",
              "      <td>EQ</td>\n",
              "      <td>667.45</td>\n",
              "      <td>673.15</td>\n",
              "      <td>679.00</td>\n",
              "      <td>665.95</td>\n",
              "      <td>672.45</td>\n",
              "      <td>670.35</td>\n",
              "      <td>670.58</td>\n",
              "      <td>8260890</td>\n",
              "      <td>5.539597e+09</td>\n",
              "      <td>103845</td>\n",
              "      <td>6137214</td>\n",
              "      <td>74.29</td>\n",
              "    </tr>\n",
              "    <tr>\n",
              "      <th>2018-12-04</th>\n",
              "      <td>INFY</td>\n",
              "      <td>EQ</td>\n",
              "      <td>670.35</td>\n",
              "      <td>672.55</td>\n",
              "      <td>688.25</td>\n",
              "      <td>671.30</td>\n",
              "      <td>683.00</td>\n",
              "      <td>685.25</td>\n",
              "      <td>682.83</td>\n",
              "      <td>7827923</td>\n",
              "      <td>5.345133e+09</td>\n",
              "      <td>129170</td>\n",
              "      <td>4357939</td>\n",
              "      <td>55.67</td>\n",
              "    </tr>\n",
              "    <tr>\n",
              "      <th>2018-12-05</th>\n",
              "      <td>INFY</td>\n",
              "      <td>EQ</td>\n",
              "      <td>685.25</td>\n",
              "      <td>683.00</td>\n",
              "      <td>683.65</td>\n",
              "      <td>672.50</td>\n",
              "      <td>682.05</td>\n",
              "      <td>681.40</td>\n",
              "      <td>678.97</td>\n",
              "      <td>5177288</td>\n",
              "      <td>3.515207e+09</td>\n",
              "      <td>96257</td>\n",
              "      <td>3101033</td>\n",
              "      <td>59.90</td>\n",
              "    </tr>\n",
              "  </tbody>\n",
              "</table>\n",
              "</div>"
            ],
            "text/plain": [
              "           Symbol Series  ...  Deliverable Qty  % Dly Qt to Traded Qty\n",
              "Date                      ...                                         \n",
              "2018-11-29   INFY     EQ  ...          7390099                   55.15\n",
              "2018-11-30   INFY     EQ  ...          6667707                   63.83\n",
              "2018-12-03   INFY     EQ  ...          6137214                   74.29\n",
              "2018-12-04   INFY     EQ  ...          4357939                   55.67\n",
              "2018-12-05   INFY     EQ  ...          3101033                   59.90\n",
              "\n",
              "[5 rows x 14 columns]"
            ]
          },
          "metadata": {
            "tags": []
          },
          "execution_count": 62
        }
      ]
    },
    {
      "cell_type": "code",
      "metadata": {
        "colab": {
          "base_uri": "https://localhost:8080/",
          "height": 391
        },
        "id": "iiHif9f3IsF4",
        "outputId": "128eea80-272b-477f-8cea-83418bea8fa9"
      },
      "source": [
        "data['Day']=data.index.day\n",
        "data['DayOfWeek']=data.index.dayofweek\n",
        "data.head()"
      ],
      "execution_count": 63,
      "outputs": [
        {
          "output_type": "execute_result",
          "data": {
            "text/html": [
              "<div>\n",
              "<style scoped>\n",
              "    .dataframe tbody tr th:only-of-type {\n",
              "        vertical-align: middle;\n",
              "    }\n",
              "\n",
              "    .dataframe tbody tr th {\n",
              "        vertical-align: top;\n",
              "    }\n",
              "\n",
              "    .dataframe thead th {\n",
              "        text-align: right;\n",
              "    }\n",
              "</style>\n",
              "<table border=\"1\" class=\"dataframe\">\n",
              "  <thead>\n",
              "    <tr style=\"text-align: right;\">\n",
              "      <th></th>\n",
              "      <th>Symbol</th>\n",
              "      <th>Series</th>\n",
              "      <th>Prev Close</th>\n",
              "      <th>Open Price</th>\n",
              "      <th>High Price</th>\n",
              "      <th>Low Price</th>\n",
              "      <th>Last Price</th>\n",
              "      <th>Close Price</th>\n",
              "      <th>Average Price</th>\n",
              "      <th>Total Traded Quantity</th>\n",
              "      <th>Turnover</th>\n",
              "      <th>No. of Trades</th>\n",
              "      <th>Deliverable Qty</th>\n",
              "      <th>% Dly Qt to Traded Qty</th>\n",
              "      <th>Day</th>\n",
              "      <th>DayOfWeek</th>\n",
              "    </tr>\n",
              "    <tr>\n",
              "      <th>Date</th>\n",
              "      <th></th>\n",
              "      <th></th>\n",
              "      <th></th>\n",
              "      <th></th>\n",
              "      <th></th>\n",
              "      <th></th>\n",
              "      <th></th>\n",
              "      <th></th>\n",
              "      <th></th>\n",
              "      <th></th>\n",
              "      <th></th>\n",
              "      <th></th>\n",
              "      <th></th>\n",
              "      <th></th>\n",
              "      <th></th>\n",
              "      <th></th>\n",
              "    </tr>\n",
              "  </thead>\n",
              "  <tbody>\n",
              "    <tr>\n",
              "      <th>2018-11-29</th>\n",
              "      <td>INFY</td>\n",
              "      <td>EQ</td>\n",
              "      <td>666.40</td>\n",
              "      <td>671.00</td>\n",
              "      <td>674.90</td>\n",
              "      <td>658.80</td>\n",
              "      <td>665.00</td>\n",
              "      <td>661.05</td>\n",
              "      <td>667.03</td>\n",
              "      <td>13399070</td>\n",
              "      <td>8.937609e+09</td>\n",
              "      <td>170549</td>\n",
              "      <td>7390099</td>\n",
              "      <td>55.15</td>\n",
              "      <td>29</td>\n",
              "      <td>3</td>\n",
              "    </tr>\n",
              "    <tr>\n",
              "      <th>2018-11-30</th>\n",
              "      <td>INFY</td>\n",
              "      <td>EQ</td>\n",
              "      <td>661.05</td>\n",
              "      <td>661.00</td>\n",
              "      <td>672.00</td>\n",
              "      <td>660.95</td>\n",
              "      <td>670.00</td>\n",
              "      <td>667.45</td>\n",
              "      <td>667.52</td>\n",
              "      <td>10445773</td>\n",
              "      <td>6.972741e+09</td>\n",
              "      <td>118396</td>\n",
              "      <td>6667707</td>\n",
              "      <td>63.83</td>\n",
              "      <td>30</td>\n",
              "      <td>4</td>\n",
              "    </tr>\n",
              "    <tr>\n",
              "      <th>2018-12-03</th>\n",
              "      <td>INFY</td>\n",
              "      <td>EQ</td>\n",
              "      <td>667.45</td>\n",
              "      <td>673.15</td>\n",
              "      <td>679.00</td>\n",
              "      <td>665.95</td>\n",
              "      <td>672.45</td>\n",
              "      <td>670.35</td>\n",
              "      <td>670.58</td>\n",
              "      <td>8260890</td>\n",
              "      <td>5.539597e+09</td>\n",
              "      <td>103845</td>\n",
              "      <td>6137214</td>\n",
              "      <td>74.29</td>\n",
              "      <td>3</td>\n",
              "      <td>0</td>\n",
              "    </tr>\n",
              "    <tr>\n",
              "      <th>2018-12-04</th>\n",
              "      <td>INFY</td>\n",
              "      <td>EQ</td>\n",
              "      <td>670.35</td>\n",
              "      <td>672.55</td>\n",
              "      <td>688.25</td>\n",
              "      <td>671.30</td>\n",
              "      <td>683.00</td>\n",
              "      <td>685.25</td>\n",
              "      <td>682.83</td>\n",
              "      <td>7827923</td>\n",
              "      <td>5.345133e+09</td>\n",
              "      <td>129170</td>\n",
              "      <td>4357939</td>\n",
              "      <td>55.67</td>\n",
              "      <td>4</td>\n",
              "      <td>1</td>\n",
              "    </tr>\n",
              "    <tr>\n",
              "      <th>2018-12-05</th>\n",
              "      <td>INFY</td>\n",
              "      <td>EQ</td>\n",
              "      <td>685.25</td>\n",
              "      <td>683.00</td>\n",
              "      <td>683.65</td>\n",
              "      <td>672.50</td>\n",
              "      <td>682.05</td>\n",
              "      <td>681.40</td>\n",
              "      <td>678.97</td>\n",
              "      <td>5177288</td>\n",
              "      <td>3.515207e+09</td>\n",
              "      <td>96257</td>\n",
              "      <td>3101033</td>\n",
              "      <td>59.90</td>\n",
              "      <td>5</td>\n",
              "      <td>2</td>\n",
              "    </tr>\n",
              "  </tbody>\n",
              "</table>\n",
              "</div>"
            ],
            "text/plain": [
              "           Symbol Series  Prev Close  ...  % Dly Qt to Traded Qty  Day  DayOfWeek\n",
              "Date                                  ...                                        \n",
              "2018-11-29   INFY     EQ      666.40  ...                   55.15   29          3\n",
              "2018-11-30   INFY     EQ      661.05  ...                   63.83   30          4\n",
              "2018-12-03   INFY     EQ      667.45  ...                   74.29    3          0\n",
              "2018-12-04   INFY     EQ      670.35  ...                   55.67    4          1\n",
              "2018-12-05   INFY     EQ      685.25  ...                   59.90    5          2\n",
              "\n",
              "[5 rows x 16 columns]"
            ]
          },
          "metadata": {
            "tags": []
          },
          "execution_count": 63
        }
      ]
    },
    {
      "cell_type": "code",
      "metadata": {
        "colab": {
          "base_uri": "https://localhost:8080/",
          "height": 391
        },
        "id": "wA9wCxOTJP_c",
        "outputId": "374a7952-79ae-423d-b903-1f61fa6d7dc8"
      },
      "source": [
        "data.drop(columns=['Symbol','Series'],inplace=True)\n",
        "data.head()"
      ],
      "execution_count": 64,
      "outputs": [
        {
          "output_type": "execute_result",
          "data": {
            "text/html": [
              "<div>\n",
              "<style scoped>\n",
              "    .dataframe tbody tr th:only-of-type {\n",
              "        vertical-align: middle;\n",
              "    }\n",
              "\n",
              "    .dataframe tbody tr th {\n",
              "        vertical-align: top;\n",
              "    }\n",
              "\n",
              "    .dataframe thead th {\n",
              "        text-align: right;\n",
              "    }\n",
              "</style>\n",
              "<table border=\"1\" class=\"dataframe\">\n",
              "  <thead>\n",
              "    <tr style=\"text-align: right;\">\n",
              "      <th></th>\n",
              "      <th>Prev Close</th>\n",
              "      <th>Open Price</th>\n",
              "      <th>High Price</th>\n",
              "      <th>Low Price</th>\n",
              "      <th>Last Price</th>\n",
              "      <th>Close Price</th>\n",
              "      <th>Average Price</th>\n",
              "      <th>Total Traded Quantity</th>\n",
              "      <th>Turnover</th>\n",
              "      <th>No. of Trades</th>\n",
              "      <th>Deliverable Qty</th>\n",
              "      <th>% Dly Qt to Traded Qty</th>\n",
              "      <th>Day</th>\n",
              "      <th>DayOfWeek</th>\n",
              "    </tr>\n",
              "    <tr>\n",
              "      <th>Date</th>\n",
              "      <th></th>\n",
              "      <th></th>\n",
              "      <th></th>\n",
              "      <th></th>\n",
              "      <th></th>\n",
              "      <th></th>\n",
              "      <th></th>\n",
              "      <th></th>\n",
              "      <th></th>\n",
              "      <th></th>\n",
              "      <th></th>\n",
              "      <th></th>\n",
              "      <th></th>\n",
              "      <th></th>\n",
              "    </tr>\n",
              "  </thead>\n",
              "  <tbody>\n",
              "    <tr>\n",
              "      <th>2018-11-29</th>\n",
              "      <td>666.40</td>\n",
              "      <td>671.00</td>\n",
              "      <td>674.90</td>\n",
              "      <td>658.80</td>\n",
              "      <td>665.00</td>\n",
              "      <td>661.05</td>\n",
              "      <td>667.03</td>\n",
              "      <td>13399070</td>\n",
              "      <td>8.937609e+09</td>\n",
              "      <td>170549</td>\n",
              "      <td>7390099</td>\n",
              "      <td>55.15</td>\n",
              "      <td>29</td>\n",
              "      <td>3</td>\n",
              "    </tr>\n",
              "    <tr>\n",
              "      <th>2018-11-30</th>\n",
              "      <td>661.05</td>\n",
              "      <td>661.00</td>\n",
              "      <td>672.00</td>\n",
              "      <td>660.95</td>\n",
              "      <td>670.00</td>\n",
              "      <td>667.45</td>\n",
              "      <td>667.52</td>\n",
              "      <td>10445773</td>\n",
              "      <td>6.972741e+09</td>\n",
              "      <td>118396</td>\n",
              "      <td>6667707</td>\n",
              "      <td>63.83</td>\n",
              "      <td>30</td>\n",
              "      <td>4</td>\n",
              "    </tr>\n",
              "    <tr>\n",
              "      <th>2018-12-03</th>\n",
              "      <td>667.45</td>\n",
              "      <td>673.15</td>\n",
              "      <td>679.00</td>\n",
              "      <td>665.95</td>\n",
              "      <td>672.45</td>\n",
              "      <td>670.35</td>\n",
              "      <td>670.58</td>\n",
              "      <td>8260890</td>\n",
              "      <td>5.539597e+09</td>\n",
              "      <td>103845</td>\n",
              "      <td>6137214</td>\n",
              "      <td>74.29</td>\n",
              "      <td>3</td>\n",
              "      <td>0</td>\n",
              "    </tr>\n",
              "    <tr>\n",
              "      <th>2018-12-04</th>\n",
              "      <td>670.35</td>\n",
              "      <td>672.55</td>\n",
              "      <td>688.25</td>\n",
              "      <td>671.30</td>\n",
              "      <td>683.00</td>\n",
              "      <td>685.25</td>\n",
              "      <td>682.83</td>\n",
              "      <td>7827923</td>\n",
              "      <td>5.345133e+09</td>\n",
              "      <td>129170</td>\n",
              "      <td>4357939</td>\n",
              "      <td>55.67</td>\n",
              "      <td>4</td>\n",
              "      <td>1</td>\n",
              "    </tr>\n",
              "    <tr>\n",
              "      <th>2018-12-05</th>\n",
              "      <td>685.25</td>\n",
              "      <td>683.00</td>\n",
              "      <td>683.65</td>\n",
              "      <td>672.50</td>\n",
              "      <td>682.05</td>\n",
              "      <td>681.40</td>\n",
              "      <td>678.97</td>\n",
              "      <td>5177288</td>\n",
              "      <td>3.515207e+09</td>\n",
              "      <td>96257</td>\n",
              "      <td>3101033</td>\n",
              "      <td>59.90</td>\n",
              "      <td>5</td>\n",
              "      <td>2</td>\n",
              "    </tr>\n",
              "  </tbody>\n",
              "</table>\n",
              "</div>"
            ],
            "text/plain": [
              "            Prev Close  Open Price  ...  Day  DayOfWeek\n",
              "Date                                ...                \n",
              "2018-11-29      666.40      671.00  ...   29          3\n",
              "2018-11-30      661.05      661.00  ...   30          4\n",
              "2018-12-03      667.45      673.15  ...    3          0\n",
              "2018-12-04      670.35      672.55  ...    4          1\n",
              "2018-12-05      685.25      683.00  ...    5          2\n",
              "\n",
              "[5 rows x 14 columns]"
            ]
          },
          "metadata": {
            "tags": []
          },
          "execution_count": 64
        }
      ]
    },
    {
      "cell_type": "code",
      "metadata": {
        "colab": {
          "base_uri": "https://localhost:8080/",
          "height": 240
        },
        "id": "WWGqnVyFJTYT",
        "outputId": "2b99cd5f-d707-40da-802c-6b79c2a74124"
      },
      "source": [
        "import matplotlib.pyplot as plt\n",
        "plt.figure(figsize=(30,7))\n",
        "plt.plot(data.index,data['Close Price'])\n",
        "plt.show()"
      ],
      "execution_count": 65,
      "outputs": [
        {
          "output_type": "display_data",
          "data": {
            "image/png": "[encoded data removed]",
            "text/plain": [
              "<Figure size 2160x504 with 1 Axes>"
            ]
          },
          "metadata": {
            "tags": [],
            "needs_background": "light"
          }
        }
      ]
    },
    {
      "cell_type": "code",
      "metadata": {
        "colab": {
          "base_uri": "https://localhost:8080/"
        },
        "id": "Er1hX006JYNW",
        "outputId": "7f721bf7-6f48-4e7e-eab9-5d3533ff6667"
      },
      "source": [
        "train_size=int(len(data)*0.9)\n",
        "train,test=data.iloc[:train_size],data.iloc[train_size:len(data)]\n",
        "train.shape,test.shape"
      ],
      "execution_count": 66,
      "outputs": [
        {
          "output_type": "execute_result",
          "data": {
            "text/plain": [
              "((449, 14), (50, 14))"
            ]
          },
          "metadata": {
            "tags": []
          },
          "execution_count": 66
        }
      ]
    },
    {
      "cell_type": "code",
      "metadata": {
        "colab": {
          "base_uri": "https://localhost:8080/"
        },
        "id": "7v4iufmLJppU",
        "outputId": "8926753c-da36-4f3d-dee5-6ed697f1f37b"
      },
      "source": [
        "from sklearn.preprocessing import MinMaxScaler\n",
        "\n",
        "rs_data = MinMaxScaler()\n",
        "rs_target = MinMaxScaler()\n",
        "\n",
        "target=data['Close Price']\n",
        "data.drop(columns=['Close Price'],inplace=True)\n",
        "\n",
        "train.loc[:,data.columns]=rs_data.fit_transform(train.loc[:,data.columns].to_numpy())\n",
        "train['Close Price']=rs_target.fit_transform(train[['Close Price']].to_numpy())\n",
        "test.loc[:,data.columns]=rs_data.fit_transform(test.loc[:,data.columns].to_numpy())\n",
        "test['Close Price']=rs_target.fit_transform(test[['Close Price']].to_numpy())"
      ],
      "execution_count": 67,
      "outputs": [
        {
          "output_type": "stream",
          "text": [
            "/usr/local/lib/python3.6/dist-packages/pandas/core/indexing.py:1734: SettingWithCopyWarning: \n",
            "A value is trying to be set on a copy of a slice from a DataFrame.\n",
            "Try using .loc[row_indexer,col_indexer] = value instead\n",
            "\n",
            "See the caveats in the documentation: https://pandas.pydata.org/pandas-docs/stable/user_guide/indexing.html#returning-a-view-versus-a-copy\n",
            "  isetter(loc, value[:, i].tolist())\n",
            "/usr/local/lib/python3.6/dist-packages/ipykernel_launcher.py:10: SettingWithCopyWarning: \n",
            "A value is trying to be set on a copy of a slice from a DataFrame.\n",
            "Try using .loc[row_indexer,col_indexer] = value instead\n",
            "\n",
            "See the caveats in the documentation: https://pandas.pydata.org/pandas-docs/stable/user_guide/indexing.html#returning-a-view-versus-a-copy\n",
            "  # Remove the CWD from sys.path while we load stuff.\n",
            "/usr/local/lib/python3.6/dist-packages/pandas/core/indexing.py:1734: SettingWithCopyWarning: \n",
            "A value is trying to be set on a copy of a slice from a DataFrame.\n",
            "Try using .loc[row_indexer,col_indexer] = value instead\n",
            "\n",
            "See the caveats in the documentation: https://pandas.pydata.org/pandas-docs/stable/user_guide/indexing.html#returning-a-view-versus-a-copy\n",
            "  isetter(loc, value[:, i].tolist())\n",
            "/usr/local/lib/python3.6/dist-packages/ipykernel_launcher.py:12: SettingWithCopyWarning: \n",
            "A value is trying to be set on a copy of a slice from a DataFrame.\n",
            "Try using .loc[row_indexer,col_indexer] = value instead\n",
            "\n",
            "See the caveats in the documentation: https://pandas.pydata.org/pandas-docs/stable/user_guide/indexing.html#returning-a-view-versus-a-copy\n",
            "  if sys.path[0] == '':\n"
          ],
          "name": "stderr"
        }
      ]
    },
    {
      "cell_type": "code",
      "metadata": {
        "id": "HWNWfV4DJzJD"
      },
      "source": [
        "import numpy as np\n",
        "def create_dataset(X, y, time_steps=1):\n",
        "    Xs, ys = [], []\n",
        "    for i in range(len(X) - time_steps):\n",
        "        v = X.iloc[i:(i + time_steps)].values\n",
        "        Xs.append(v)\n",
        "        ys.append(y.iloc[i + time_steps])\n",
        "    return np.array(Xs), np.array(ys)"
      ],
      "execution_count": 68,
      "outputs": []
    },
    {
      "cell_type": "code",
      "metadata": {
        "colab": {
          "base_uri": "https://localhost:8080/"
        },
        "id": "7FFbt9QPJ4sb",
        "outputId": "155fe0f7-dbd4-4620-ad2e-2286fbc9e326"
      },
      "source": [
        "time_steps=10\n",
        "\n",
        "x_train, y_train = create_dataset(train, train['Close Price'], time_steps)\n",
        "x_test, y_test = create_dataset(test, train['Close Price'], time_steps)\n",
        "\n",
        "x_train.shape,x_test.shape"
      ],
      "execution_count": 69,
      "outputs": [
        {
          "output_type": "execute_result",
          "data": {
            "text/plain": [
              "((439, 10, 14), (40, 10, 14))"
            ]
          },
          "metadata": {
            "tags": []
          },
          "execution_count": 69
        }
      ]
    },
    {
      "cell_type": "code",
      "metadata": {
        "id": "qZwxvtuZKBAB"
      },
      "source": [
        "import keras\n",
        "model = keras.Sequential()\n",
        "model.add(keras.layers.Conv1D(filters=32, kernel_size=5,\n",
        "                      strides=1, padding=\"causal\",\n",
        "                      activation=\"relu\",\n",
        "                      input_shape=(x_train.shape[1], x_train.shape[2])))\n",
        "model.add(\n",
        "  keras.layers.Bidirectional(\n",
        "    keras.layers.LSTM(\n",
        "      units=128,return_sequences=True\n",
        "    )\n",
        "  ))\n",
        "model.add(\n",
        "  keras.layers.Bidirectional(\n",
        "  keras.layers.LSTM(\n",
        "  units=500,return_sequences=True\n",
        "    )\n",
        "  ))\n",
        "model.add(\n",
        "  keras.layers.Bidirectional(\n",
        "  keras.layers.LSTM(units=500)\n",
        "  )\n",
        ")\n",
        "model.add(keras.layers.Dropout(rate=0.25))\n",
        "model.add(keras.layers.Dense(units=100,activation='relu'))\n",
        "model.add(keras.layers.Dense(10, activation=\"relu\"))\n",
        "model.add(keras.layers.Dense(units=1))\n",
        "model.compile(loss=keras.losses.Huber(),\n",
        "              optimizer='adam',\n",
        "              metrics=[\"mse\"])"
      ],
      "execution_count": 70,
      "outputs": []
    },
    {
      "cell_type": "code",
      "metadata": {
        "colab": {
          "base_uri": "https://localhost:8080/"
        },
        "id": "ZPmgcv7qKGy-",
        "outputId": "e1e392da-b503-45f9-cc13-344b744848f9"
      },
      "source": [
        "history = model.fit(\n",
        "    x_train, y_train,\n",
        "    epochs=10,\n",
        "    batch_size=32,\n",
        "    validation_split=0.35,\n",
        "    shuffle=False,\n",
        "    verbose=1\n",
        ")"
      ],
      "execution_count": 71,
      "outputs": [
        {
          "output_type": "stream",
          "text": [
            "Epoch 1/10\n",
            "9/9 [==============================] - 9s 993ms/step - loss: 0.0737 - mse: 0.1475 - val_loss: 0.0191 - val_mse: 0.0382\n",
            "Epoch 2/10\n",
            "9/9 [==============================] - 7s 742ms/step - loss: 0.0083 - mse: 0.0165 - val_loss: 0.0149 - val_mse: 0.0298\n",
            "Epoch 3/10\n",
            "9/9 [==============================] - 7s 749ms/step - loss: 0.0038 - mse: 0.0076 - val_loss: 0.0124 - val_mse: 0.0247\n",
            "Epoch 4/10\n",
            "9/9 [==============================] - 7s 747ms/step - loss: 0.0028 - mse: 0.0056 - val_loss: 0.0105 - val_mse: 0.0210\n",
            "Epoch 5/10\n",
            "9/9 [==============================] - 7s 744ms/step - loss: 0.0025 - mse: 0.0050 - val_loss: 0.0098 - val_mse: 0.0196\n",
            "Epoch 6/10\n",
            "9/9 [==============================] - 7s 745ms/step - loss: 0.0022 - mse: 0.0044 - val_loss: 0.0096 - val_mse: 0.0193\n",
            "Epoch 7/10\n",
            "9/9 [==============================] - 7s 744ms/step - loss: 0.0021 - mse: 0.0043 - val_loss: 0.0099 - val_mse: 0.0198\n",
            "Epoch 8/10\n",
            "9/9 [==============================] - 7s 748ms/step - loss: 0.0022 - mse: 0.0043 - val_loss: 0.0113 - val_mse: 0.0226\n",
            "Epoch 9/10\n",
            "9/9 [==============================] - 7s 746ms/step - loss: 0.0020 - mse: 0.0041 - val_loss: 0.0127 - val_mse: 0.0254\n",
            "Epoch 10/10\n",
            "9/9 [==============================] - 7s 766ms/step - loss: 0.0022 - mse: 0.0044 - val_loss: 0.0137 - val_mse: 0.0273\n"
          ],
          "name": "stdout"
        }
      ]
    },
    {
      "cell_type": "code",
      "metadata": {
        "id": "BjrkuoXeKUha"
      },
      "source": [
        "pred=model.predict(x_test)\n",
        "y_train_inv=rs_target.inverse_transform(y_train.reshape(1,-1))\n",
        "y_test_inv=rs_target.inverse_transform(y_test.reshape(1,-1))\n",
        "pred=rs_target.inverse_transform(pred.reshape(1,-1))"
      ],
      "execution_count": 74,
      "outputs": []
    },
    {
      "cell_type": "code",
      "metadata": {
        "colab": {
          "base_uri": "https://localhost:8080/",
          "height": 265
        },
        "id": "jl-Yt7OsM1F2",
        "outputId": "00e9505f-8e79-48ea-a576-21ce9f2c006a"
      },
      "source": [
        "plt.plot(y_test_inv.flatten(),marker='.',label='True')\n",
        "plt.plot(pred.flatten(),'r',marker='.',label='Predicted')\n",
        "plt.legend()\n",
        "plt.show()"
      ],
      "execution_count": 75,
      "outputs": [
        {
          "output_type": "display_data",
          "data": {
            "image/png": "[encoded data removed]",
            "text/plain": [
              "<Figure size 432x288 with 1 Axes>"
            ]
          },
          "metadata": {
            "tags": [],
            "needs_background": "light"
          }
        }
      ]
    },
    {
      "cell_type": "code",
      "metadata": {
        "id": "2jbNUWHvM7Kv"
      },
      "source": [
        ""
      ],
      "execution_count": 73,
      "outputs": []
    }
  ]
}